{
 "cells": [
  {
   "cell_type": "code",
   "execution_count": 4,
   "metadata": {},
   "outputs": [],
   "source": [
    "from keras.layers import Conv2D, UpSampling2D\n",
    "from keras.models import Sequential\n",
    "from keras.preprocessing.image import ImageDataGenerator, img_to_array, load_img\n",
    "from skimage.color import rgb2lab, lab2rgb\n",
    "from skimage.transform import resize\n",
    "from skimage.io import imsave\n",
    "import numpy as np\n",
    "import tensorflow as tf"
   ]
  },
  {
   "cell_type": "code",
   "execution_count": 5,
   "metadata": {},
   "outputs": [
    {
     "name": "stdout",
     "output_type": "stream",
     "text": [
      "Found 60 images belonging to 1 classes.\n"
     ]
    }
   ],
   "source": [
    "path = 'dataset/'\n",
    "\n",
    "train_datagen = ImageDataGenerator(rescale=1. / 255)\n",
    "train = train_datagen.flow_from_directory(path,  target_size=(256, 256),  batch_size=340, class_mode=None)"
   ]
  },
  {
   "cell_type": "code",
   "execution_count": 6,
   "metadata": {},
   "outputs": [],
   "source": [
    "X =[]\n",
    "Y =[]\n",
    "for img in train[0]:\n",
    "    try:\n",
    "        lab = rgb2lab(img)\n",
    "        X.append(lab[:,:,0]) \n",
    "        Y.append(lab[:,:,1:] / 128)\n",
    "    except:\n",
    "        print('error')"
   ]
  },
  {
   "cell_type": "code",
   "execution_count": 7,
   "metadata": {},
   "outputs": [
    {
     "name": "stdout",
     "output_type": "stream",
     "text": [
      "(60, 256, 256, 1)\n",
      "(60, 256, 256, 2)\n"
     ]
    }
   ],
   "source": [
    "X = np.array(X)\n",
    "Y = np.array(Y)\n",
    "X = X.reshape(X.shape+(1,)) #dimensions to be the same for X and Y\n",
    "print(X.shape)\n",
    "print(Y.shape)"
   ]
  },
  {
   "cell_type": "code",
   "execution_count": 8,
   "metadata": {},
   "outputs": [],
   "source": [
    "# encoder network\n",
    "\n",
    "model = Sequential()\n",
    "model.add(Conv2D(64, (3, 3), activation='relu', padding='same', strides=2, input_shape=(256, 256, 1)))\n",
    "model.add(Conv2D(128, (3, 3), activation='relu', padding='same'))\n",
    "model.add(Conv2D(128, (3,3), activation='relu', padding='same', strides=2))\n",
    "model.add(Conv2D(256, (3,3), activation='relu', padding='same'))\n",
    "model.add(Conv2D(256, (3,3), activation='relu', padding='same', strides=2))\n",
    "model.add(Conv2D(512, (3,3), activation='relu', padding='same'))\n",
    "model.add(Conv2D(512, (3,3), activation='relu', padding='same'))\n",
    "model.add(Conv2D(256, (3,3), activation='relu', padding='same'))\n",
    "\n",
    "# decoder network\n",
    "model.add(Conv2D(128, (3,3), activation='relu', padding='same'))\n",
    "model.add(UpSampling2D((2, 2)))\n",
    "model.add(Conv2D(64, (3,3), activation='relu', padding='same'))\n",
    "model.add(UpSampling2D((2, 2)))\n",
    "model.add(Conv2D(32, (3,3), activation='relu', padding='same'))\n",
    "model.add(Conv2D(16, (3,3), activation='relu', padding='same'))\n",
    "model.add(Conv2D(2, (3, 3), activation='tanh', padding='same'))\n",
    "model.add(UpSampling2D((2, 2)))"
   ]
  },
  {
   "cell_type": "code",
   "execution_count": 9,
   "metadata": {},
   "outputs": [],
   "source": [
    "model.compile(optimizer='adam', loss='mse' , metrics=['accuracy'])"
   ]
  },
  {
   "cell_type": "code",
   "execution_count": 10,
   "metadata": {},
   "outputs": [
    {
     "name": "stdout",
     "output_type": "stream",
     "text": [
      "Model: \"sequential\"\n",
      "_________________________________________________________________\n",
      "Layer (type)                 Output Shape              Param #   \n",
      "=================================================================\n",
      "conv2d (Conv2D)              (None, 128, 128, 64)      640       \n",
      "_________________________________________________________________\n",
      "conv2d_1 (Conv2D)            (None, 128, 128, 128)     73856     \n",
      "_________________________________________________________________\n",
      "conv2d_2 (Conv2D)            (None, 64, 64, 128)       147584    \n",
      "_________________________________________________________________\n",
      "conv2d_3 (Conv2D)            (None, 64, 64, 256)       295168    \n",
      "_________________________________________________________________\n",
      "conv2d_4 (Conv2D)            (None, 32, 32, 256)       590080    \n",
      "_________________________________________________________________\n",
      "conv2d_5 (Conv2D)            (None, 32, 32, 512)       1180160   \n",
      "_________________________________________________________________\n",
      "conv2d_6 (Conv2D)            (None, 32, 32, 512)       2359808   \n",
      "_________________________________________________________________\n",
      "conv2d_7 (Conv2D)            (None, 32, 32, 256)       1179904   \n",
      "_________________________________________________________________\n",
      "conv2d_8 (Conv2D)            (None, 32, 32, 128)       295040    \n",
      "_________________________________________________________________\n",
      "up_sampling2d (UpSampling2D) (None, 64, 64, 128)       0         \n",
      "_________________________________________________________________\n",
      "conv2d_9 (Conv2D)            (None, 64, 64, 64)        73792     \n",
      "_________________________________________________________________\n",
      "up_sampling2d_1 (UpSampling2 (None, 128, 128, 64)      0         \n",
      "_________________________________________________________________\n",
      "conv2d_10 (Conv2D)           (None, 128, 128, 32)      18464     \n",
      "_________________________________________________________________\n",
      "conv2d_11 (Conv2D)           (None, 128, 128, 16)      4624      \n",
      "_________________________________________________________________\n",
      "conv2d_12 (Conv2D)           (None, 128, 128, 2)       290       \n",
      "_________________________________________________________________\n",
      "up_sampling2d_2 (UpSampling2 (None, 256, 256, 2)       0         \n",
      "=================================================================\n",
      "Total params: 6,219,410\n",
      "Trainable params: 6,219,410\n",
      "Non-trainable params: 0\n",
      "_________________________________________________________________\n"
     ]
    }
   ],
   "source": [
    "model.summary()"
   ]
  },
  {
   "cell_type": "code",
   "execution_count": null,
   "metadata": {
    "scrolled": true
   },
   "outputs": [
    {
     "name": "stdout",
     "output_type": "stream",
     "text": [
      "Epoch 1/100\n",
      "2/4 [==============>...............] - ETA: 0s - loss: 1.0299 - accuracy: 0.4553WARNING:tensorflow:Callbacks method `on_train_batch_end` is slow compared to the batch time (batch time: 0.1027s vs `on_train_batch_end` time: 0.2304s). Check your callbacks.\n",
      "4/4 [==============================] - 1s 222ms/step - loss: 1.0208 - accuracy: 0.4632 - val_loss: 1.0777 - val_accuracy: 0.4525\n",
      "Epoch 2/100\n",
      "4/4 [==============================] - 1s 277ms/step - loss: 1.0208 - accuracy: 0.4632 - val_loss: 1.0777 - val_accuracy: 0.4525\n",
      "Epoch 3/100\n",
      "4/4 [==============================] - 1s 278ms/step - loss: 1.0208 - accuracy: 0.4632 - val_loss: 1.0777 - val_accuracy: 0.4525\n",
      "Epoch 4/100\n",
      "4/4 [==============================] - 1s 279ms/step - loss: 1.0208 - accuracy: 0.4632 - val_loss: 1.0777 - val_accuracy: 0.4525\n",
      "Epoch 5/100\n",
      "4/4 [==============================] - 1s 280ms/step - loss: 1.0208 - accuracy: 0.4632 - val_loss: 1.0777 - val_accuracy: 0.4525\n",
      "Epoch 6/100\n",
      "4/4 [==============================] - 1s 279ms/step - loss: 1.0208 - accuracy: 0.4632 - val_loss: 1.0777 - val_accuracy: 0.4525\n",
      "Epoch 7/100\n",
      "4/4 [==============================] - 1s 279ms/step - loss: 1.0208 - accuracy: 0.4632 - val_loss: 1.0777 - val_accuracy: 0.4525\n",
      "Epoch 8/100\n",
      "4/4 [==============================] - 1s 282ms/step - loss: 1.0208 - accuracy: 0.4632 - val_loss: 1.0777 - val_accuracy: 0.4525\n",
      "Epoch 9/100\n",
      "4/4 [==============================] - 1s 279ms/step - loss: 1.0208 - accuracy: 0.4632 - val_loss: 1.0777 - val_accuracy: 0.4525\n",
      "Epoch 10/100\n",
      "4/4 [==============================] - 1s 280ms/step - loss: 1.0208 - accuracy: 0.4632 - val_loss: 1.0777 - val_accuracy: 0.4525\n",
      "Epoch 11/100\n",
      "4/4 [==============================] - 1s 279ms/step - loss: 1.0208 - accuracy: 0.4632 - val_loss: 1.0777 - val_accuracy: 0.4525\n",
      "Epoch 12/100\n",
      "4/4 [==============================] - 1s 279ms/step - loss: 1.0208 - accuracy: 0.4632 - val_loss: 1.0777 - val_accuracy: 0.4525\n",
      "Epoch 13/100\n",
      "4/4 [==============================] - 1s 280ms/step - loss: 1.0208 - accuracy: 0.4632 - val_loss: 1.0777 - val_accuracy: 0.4525\n",
      "Epoch 14/100\n",
      "4/4 [==============================] - 1s 279ms/step - loss: 1.0208 - accuracy: 0.4632 - val_loss: 1.0777 - val_accuracy: 0.4525\n",
      "Epoch 15/100\n",
      "4/4 [==============================] - 1s 280ms/step - loss: 1.0208 - accuracy: 0.4632 - val_loss: 1.0777 - val_accuracy: 0.4525\n",
      "Epoch 16/100\n",
      "4/4 [==============================] - 1s 279ms/step - loss: 1.0208 - accuracy: 0.4632 - val_loss: 1.0777 - val_accuracy: 0.4525\n",
      "Epoch 17/100\n",
      "4/4 [==============================] - 1s 279ms/step - loss: 1.0208 - accuracy: 0.4632 - val_loss: 1.0777 - val_accuracy: 0.4525\n",
      "Epoch 18/100\n",
      "4/4 [==============================] - 1s 279ms/step - loss: 1.0208 - accuracy: 0.4632 - val_loss: 1.0777 - val_accuracy: 0.4525\n",
      "Epoch 19/100\n",
      "4/4 [==============================] - 1s 279ms/step - loss: 1.0208 - accuracy: 0.4632 - val_loss: 1.0777 - val_accuracy: 0.4525\n",
      "Epoch 20/100\n",
      "4/4 [==============================] - 1s 278ms/step - loss: 1.0208 - accuracy: 0.4632 - val_loss: 1.0777 - val_accuracy: 0.4525\n",
      "Epoch 21/100\n",
      "4/4 [==============================] - 1s 280ms/step - loss: 1.0208 - accuracy: 0.4632 - val_loss: 1.0777 - val_accuracy: 0.4525\n",
      "Epoch 22/100\n",
      "4/4 [==============================] - 1s 279ms/step - loss: 1.0208 - accuracy: 0.4632 - val_loss: 1.0777 - val_accuracy: 0.4525\n",
      "Epoch 23/100\n",
      "4/4 [==============================] - 1s 279ms/step - loss: 1.0208 - accuracy: 0.4632 - val_loss: 1.0777 - val_accuracy: 0.4525\n",
      "Epoch 24/100\n",
      "2/4 [==============>...............] - ETA: 0s - loss: 1.0210 - accuracy: 0.4816"
     ]
    }
   ],
   "source": [
    "model.fit(X, Y, validation_split = 0.1, epochs = 100, batch_size = 16)"
   ]
  },
  {
   "cell_type": "code",
   "execution_count": null,
   "metadata": {},
   "outputs": [],
   "source": [
    "# saving the trained model for future use\n",
    "\n",
    "model.save('colorize_autoencoder.h5')"
   ]
  },
  {
   "cell_type": "code",
   "execution_count": null,
   "metadata": {},
   "outputs": [],
   "source": [
    "model = tf.keras.models.load_model('colorize_autoencoder.h5', custom_objects=None, compile=True)"
   ]
  },
  {
   "cell_type": "code",
   "execution_count": 3,
   "metadata": {},
   "outputs": [],
   "source": [
    "import cv2\n",
    "\n",
    "img1_color=[]\n",
    "img1 = img_to_array(load_img('sunset.png'))\n",
    "img1 = resize(img1 ,(256,256))\n",
    "img1_color.append(img1)\n",
    "\n",
    "img1_color = np.array(img1_color, dtype=float)\n",
    "img1_color = rgb2lab(1.0/255*img1_color)[:,:,:,0]\n",
    "img1_color = img1_color.reshape(img1_color.shape+(1,))\n",
    "\n",
    "output1 = model.predict(img1_color)\n",
    "output1 = output1*128\n",
    "\n",
    "result = np.zeros((256, 256, 3))\n",
    "result[:,:,0] = img1_color[0][:,:,0]\n",
    "result[:,:,1:] = output1[0]\n",
    "\n",
    "cv2.imshow('Gray Scale image', cv2.imread('sunset.png'))\n",
    "cv2.waitKey(0)\n",
    "cv2.imshow('Colored Image', lab2rgb(result))\n",
    "cv2.waitKey(0)\n",
    "cv2.destroyAllWindows()"
   ]
  },
  {
   "cell_type": "code",
   "execution_count": null,
   "metadata": {},
   "outputs": [],
   "source": []
  }
 ],
 "metadata": {
  "kernelspec": {
   "display_name": "Python 3",
   "language": "python",
   "name": "python3"
  },
  "language_info": {
   "codemirror_mode": {
    "name": "ipython",
    "version": 3
   },
   "file_extension": ".py",
   "mimetype": "text/x-python",
   "name": "python",
   "nbconvert_exporter": "python",
   "pygments_lexer": "ipython3",
   "version": "3.7.9"
  }
 },
 "nbformat": 4,
 "nbformat_minor": 4
}
